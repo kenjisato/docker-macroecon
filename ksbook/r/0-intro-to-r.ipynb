{
 "cells": [
  {
   "cell_type": "code",
   "execution_count": 6,
   "metadata": {},
   "outputs": [
    {
     "name": "stdout",
     "output_type": "stream",
     "text": [
      ", , 1\n",
      "\n",
      "     [,1]\n",
      "[1,]    0\n",
      "[2,]    0\n",
      "\n",
      ", , 2\n",
      "\n",
      "     [,1]\n",
      "[1,]    0\n",
      "[2,]    0\n",
      "\n",
      ", , 3\n",
      "\n",
      "     [,1]\n",
      "[1,]    0\n",
      "[2,]    0\n",
      "\n",
      ", , 4\n",
      "\n",
      "     [,1]\n",
      "[1,]    0\n",
      "[2,]    0\n",
      "\n",
      ", , 5\n",
      "\n",
      "     [,1]\n",
      "[1,]    0\n",
      "[2,]    0\n",
      "\n",
      ", , 6\n",
      "\n",
      "     [,1]\n",
      "[1,]    0\n",
      "[2,]    0\n",
      "\n",
      ", , 7\n",
      "\n",
      "     [,1]\n",
      "[1,]    0\n",
      "[2,]    0\n",
      "\n",
      ", , 8\n",
      "\n",
      "     [,1]\n",
      "[1,]    0\n",
      "[2,]    0\n",
      "\n",
      ", , 9\n",
      "\n",
      "     [,1]\n",
      "[1,]    0\n",
      "[2,]    0\n",
      "\n",
      ", , 10\n",
      "\n",
      "     [,1]\n",
      "[1,]    0\n",
      "[2,]    0\n",
      "\n"
     ]
    }
   ],
   "source": [
    "x <- array(0, c(2, 1, 10))\n",
    "print(x)"
   ]
  },
  {
   "cell_type": "code",
   "execution_count": null,
   "metadata": {},
   "outputs": [],
   "source": []
  }
 ],
 "metadata": {
  "kernelspec": {
   "display_name": "R",
   "language": "R",
   "name": "ir"
  },
  "language_info": {
   "codemirror_mode": "r",
   "file_extension": ".r",
   "mimetype": "text/x-r-source",
   "name": "R",
   "pygments_lexer": "r",
   "version": "3.5.1"
  }
 },
 "nbformat": 4,
 "nbformat_minor": 2
}
