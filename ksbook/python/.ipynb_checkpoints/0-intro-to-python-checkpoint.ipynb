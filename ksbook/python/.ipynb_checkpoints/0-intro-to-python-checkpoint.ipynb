{
 "cells": [
  {
   "cell_type": "code",
   "execution_count": 4,
   "metadata": {},
   "outputs": [
    {
     "data": {
      "text/plain": [
       "array([[[ 0.00000000e+000],\n",
       "        [ 4.65926109e-310]],\n",
       "\n",
       "       [[ 6.94653751e-310],\n",
       "        [-2.47118897e-086]],\n",
       "\n",
       "       [[ 6.94653750e-310],\n",
       "        [ 6.94653751e-310]],\n",
       "\n",
       "       [[-2.57372802e-096],\n",
       "        [ 6.94653750e-310]],\n",
       "\n",
       "       [[ 6.94653751e-310],\n",
       "        [ 0.00000000e+000]],\n",
       "\n",
       "       [[ 0.00000000e+000],\n",
       "        [ 0.00000000e+000]],\n",
       "\n",
       "       [[ 0.00000000e+000],\n",
       "        [ 0.00000000e+000]],\n",
       "\n",
       "       [[ 0.00000000e+000],\n",
       "        [ 0.00000000e+000]],\n",
       "\n",
       "       [[ 0.00000000e+000],\n",
       "        [ 0.00000000e+000]],\n",
       "\n",
       "       [[ 0.00000000e+000],\n",
       "        [ 0.00000000e+000]]])"
      ]
     },
     "execution_count": 4,
     "metadata": {},
     "output_type": "execute_result"
    }
   ],
   "source": [
    "import numpy as np\n",
    "x = np.empty((10, 2, 1))\n",
    "x"
   ]
  },
  {
   "cell_type": "code",
   "execution_count": null,
   "metadata": {},
   "outputs": [],
   "source": []
  }
 ],
 "metadata": {
  "kernelspec": {
   "display_name": "Python 3",
   "language": "python",
   "name": "python3"
  },
  "language_info": {
   "codemirror_mode": {
    "name": "ipython",
    "version": 3
   },
   "file_extension": ".py",
   "mimetype": "text/x-python",
   "name": "python",
   "nbconvert_exporter": "python",
   "pygments_lexer": "ipython3",
   "version": "3.7.3"
  }
 },
 "nbformat": 4,
 "nbformat_minor": 4
}
